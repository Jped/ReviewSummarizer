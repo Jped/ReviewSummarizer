{
 "cells": [
  {
   "cell_type": "code",
   "execution_count": 1,
   "metadata": {},
   "outputs": [],
   "source": [
    "import json"
   ]
  },
  {
   "cell_type": "code",
   "execution_count": 3,
   "metadata": {},
   "outputs": [],
   "source": [
    "# USAGE: pass in the number of reviews you want and the filename with the JSON\n",
    "# It will return a dictionary where the key is an asin for a product and the value is an array with the reviews\n",
    "def returnReviews(num_reviews, filename):\n",
    "    reviews = {}\n",
    "    fo = open(filename,'r')\n",
    "    for x in range(num_reviews):\n",
    "        reviewRaw = fo.readline()\n",
    "        review = json.loads(reviewRaw)\n",
    "        asin = review[\"asin\"]\n",
    "        if asin in reviews:\n",
    "            tmp = reviews[asin]\n",
    "            tmp.append(review['reviewText'])\n",
    "            reviews[asin] = tmp\n",
    "        else:\n",
    "            reviews[asin] = [review[\"reviewText\"]]\n",
    "    return reviews"
   ]
  }
 ],
 "metadata": {
  "kernelspec": {
   "display_name": "Python 3",
   "language": "python",
   "name": "python3"
  },
  "language_info": {
   "codemirror_mode": {
    "name": "ipython",
    "version": 3
   },
   "file_extension": ".py",
   "mimetype": "text/x-python",
   "name": "python",
   "nbconvert_exporter": "python",
   "pygments_lexer": "ipython3",
   "version": "3.6.6"
  }
 },
 "nbformat": 4,
 "nbformat_minor": 2
}
