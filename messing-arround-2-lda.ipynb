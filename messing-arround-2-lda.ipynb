{
 "cells": [
  {
   "cell_type": "code",
   "execution_count": null,
   "metadata": {},
   "outputs": [],
   "source": []
  },
  {
   "cell_type": "code",
   "execution_count": 17,
   "metadata": {},
   "outputs": [],
   "source": [
    "# 5 reviews of the Amazon echo\n",
    "reviews = [\"\"\"\n",
    "Let me preface this review by revealing a few facts about myself. I am male, aged 75 years old, and more tech savvy than most people my age, but if you can use a modern computer, and own one, you should have not problem using this device. IT IS SO FAR, MIRACULOUS, and intriguing! I bought mine about a week ago, and waited till a couple days ago to jump in with \"both feet\" and set it up. Even though I once did computer tech support for Dell computers, It was a long time ago now, and a lot of tech has evolved since then, and i have the same fear of new things as most people my age, though admittedly higher skills. I also own an Iphone 6s plus, of which I have mixed emotions. The Iphone is made by apple, and Apple's idea of \"intuitive\" and mine are very different. Microsoft is much better at designing \"intuitive\" into an operating system than Apple. Aniyway, You will need some type of connected WIFI device to use this product. (read that Cell Phone with it's own WIFI abilities, and Bluetooth built in) You will need to download the \"Alexa App. \" on that device to set up the Alexa products.\n",
    "\n",
    "From that point on, simply plug in the Echo device into a regular 110V. wall outlet, it comes with a plug in adapter. There are no batteries in this device, although some have them. A NOTE HERE\" YES, YOU CAN UNPLUG IT WITHOUT IT LOSING ITS BRAINS AND REQUIRING REPEAT SET UP. So though not specified anywhere I read it evidently has some on board nonvolatile memory built in that will allow this. ( i spent several research sessions attempting to find this out, and finally had to bite the bullet and just try it. ) I moved it from one room location to another and within a few seconds it greeted me and said it was operational. NOW I AM ONLY AN OLD GUY WITH PRETTY GOOD HEARING ABILITIES YET, (NOT EXACTLY AN AUDIOPHILE ) BUT WITH DOLBY DIGITAL SOUND, THIS IS ONE NICE SOUNDING SPEAKER SYSTEM,\n",
    "FULLY AS GOOD AS MY 7 SPEAKER ALTECH LANSING ON MY PC. IT MAY EVEN BE BETTER.IF YOU HAVE A NORMAL EAR, YOU WILL BE AMAZED AT THE SOUND QUALITY!\n",
    "\n",
    "Now I am still learning about this product. Every new thing I try I am pleasantly surprised. I plan to get at least a smart home door lock and thermostat to use with it in the future, and several light switches. I am no great fan of the \"RING DOORBELL\" (due to frequently needed battery recharging) at this point, but I understand Amazon has purchased that company and will soon have an interface app available to use with the \"Ring System\" If you want to keep up with the march of technology, this device is probably your best doorway to that end, since Amazon is committed to pursuing it. Others may drop out along the way. (NEW) I made a hands free phone call to my son this moring as a test of the phone capabilities. Sound on my end was like he was in the room. The Alexa app and it's capabilities are evolving technologies. Features will be added. (Mine did an update download while playing music) Don't be disappointed. It is attractively packed, and very capable, but the \"instructions\" are not detailed and are sketchy. Lean about it online as I did before you purchase it. Read as many reviews as your eyes and attention span will allow, and take the plunge! An education awaits you!\n",
    "            \"\"\", \n",
    "            \"\"\"\n",
    "            I got some smart plugs so that I could turn on inside lights if we come home after dark with the app on my phone.\n",
    "My 82 y.o. Dad lives with me & has a hard time walking & he's also losing his ability to see at all in the dark, because of Macular Degeneration. So the last thing I need is him tripping over something in the dark, trying to turn lights on!!\n",
    "I have an Echo & Dot in my room, which I mostly use to stream music with my Amazon Music Unlimited.\n",
    "I was controlling even his bedroom light & the hallway light with the app on my phone as well as my Echo.\n",
    "So I bought two more Dots during prime day sale.\n",
    "It's been a game changer!! My Dad struggled, even with the app on his phone to control the lights. Now that we have a Dot in his bedroom & an Echo & Dot in the living room, he's very easily learned how to ask Alexa to turn on the hallway light, his bedroom light when he's going to bed!! NO MORE STUMBLING AROUND IN THE DARK or trying to remember where he put his flashlight!!\n",
    "Since the Echo Dots all sync together, once he gets to his bedroom, he tells Alexa to turn off the living room light & the hallway light when he gets to his bedroom!! This little device is a SAVING GRACE, not only for my Dad, but for me!! I don't have him calling me to \"Show me again how to turn the lights on/off\" with his phone app!!\n",
    "It's like having someone else here that helps me take care of my Dad!!\n",
    "I made a list of the commands for the lights, etc & hung one on his night stand & put the other beside his chair in the living room!!\n",
    "He's also exploring, BY HIMSELF, different commands for Alexa. I've heard him ask her about the weather, baseball scores, etc. THIS LITTLE ITEM IS A TRUE GEM FOR SENIORS!! I love mine just as much & the quality of the sound thru the Echo is AMAZING for listening to music. I'm VERY PICKY about sound quality!! I have Bose speakers hooked up to my TV & have Bose ear buds as well. The quality of the sound from the Echo is just as good as Bose speakers!!\n",
    "            \"\"\",\n",
    "            \"\"\"\n",
    "            My mother is 84 years old and she struggles talking on a cell phone, and I struggle to hear her. She kept bumping the cell phone up against her chin, and when I talked to her I hear numerous beeps when we are talking like someone was dialing out. She is having trouble holding the cell phone up to her head. I talked my mom in to getting an Amazon Echo as a gift from me. My sister helped to set it up since I am in another state. When you make a call with the Echo, it uses the phone number associated with the cell phone that is on your Amazon account. So I changed that to my mothers cell number. So when she makes a call, it shows up as her cell phone number on the Caller ID. Now all she has to do is say \"Alexa call Greg\", and the Echo dials me up, and anyone in her contact list. She rests comfortably in her easy chair, and she can hear everything I say through the Echo, and I can hear everything my mother says very clearly. She can also ask Alexa to dial any number, that is very helpful as well. This feature alone was well worth the price of buying an Amazon Echo. My mother is learning very quickly all the other skills Alexa is able to do, weather, music, audiobooks, trivia questions, etc. Now that I am able to talk to my mother with ease.\n",
    "\n",
    "I would have to say this is the BEST gadget I have ever bought on Amazon.\n",
    "\n",
    "Attached is a Voice Mail from my mother, and how much she LOVES the Amazon Echo\n",
    "            \"\"\",\n",
    "            \"\"\"\n",
    "            I'm a long time owner of both the Echo Gen 1 & the Echo Dot Gen 2, and have been very happy with both. I pre-ordered the Echo Gen 2 and was excited to receive it. When I hooked it up and played some music thru it, and then told Alexa to stop, the music continued to play for a short burst. I do not have that problem with my Gen 1. I contacted Amazon and they sent me a new one without a hassle. When I hooked the replacement up, the same issue was there. On Nov 3rd I contacted the Amazon Echo department, and they advised me that there was a known issue with the music on the Gen 2, and it would be fixed by Nov 6th. Well, today is Nov 8th and nothing's changed, so regrettably I am returning my second Gen 2. I might add, after reading other reviews, I agree that the quality of the sound from the Gen 2 is, at best, worse than my Gen 1. Voices are muffled and music is not crisp. Amazon's claim of improved sound was my major reason for purchasing this 2nd generation device. It was indeed a disappointment.\n",
    "            \"\"\",\n",
    "            \"\"\"Bought one and tried echo 2nd gen and was impressed by the sound quality (it was close to \"surround sound\" quality) so I bought 4 more echo 2nd gen and everyone in my household was happy with all of 'em. After 4 months past, I noticed the sound is not quite awesome as it was (now, it sounded like \"mono\") seems like the bass is not sync, something about the sound is off. Seems like Amazon pushed out an update and downgraded the sound quality. It still plays music at sub-par quality but that's not what I paid for! Amazon, please maintain the quality of your products.\n",
    "\n",
    "[UPDATE:] 8/15/2018\n",
    "Amazon's review team has informed me that they've added an equalizer feature....that's fantastic!\n",
    "Now I have to adjust the bass, midrange and treble myself to try and get the best sound quality....great!\n",
    "I know some people has requested this feature and Amazon is awesome for listening and responding to customers. When I buy a smart gadget I expect to get rid off some of the guess work but It's also good to have an override switch to everything. People nowadays likes plug-n-play, set-n-forget but also wants to tinker to get to that sweet spot, I know! people are complicated but so as music. And did I mention I have 5 of these? so that means I have to tinker on each one? and tinker again for every music being played?\n",
    "\n",
    "PROPOSED SOLUTION (for your developers):\n",
    "Make the echo smart enough to determine (by itself) the best sound quality for the music being played and this will be known as the auto sound feature which is shipped by default - this will cater to mostly everyone. And the equalizer will be known as the manual sound feature that will cater the rest\"\"\"\n",
    "          ]"
   ]
  },
  {
   "cell_type": "code",
   "execution_count": 21,
   "metadata": {},
   "outputs": [
    {
     "ename": "ModuleNotFoundError",
     "evalue": "No module named 'ipynb'",
     "output_type": "error",
     "traceback": [
      "\u001b[0;31m---------------------------------------------------------------------------\u001b[0m",
      "\u001b[0;31mModuleNotFoundError\u001b[0m                       Traceback (most recent call last)",
      "\u001b[0;32m<ipython-input-21-4f981f3377db>\u001b[0m in \u001b[0;36m<module>\u001b[0;34m()\u001b[0m\n\u001b[0;32m----> 1\u001b[0;31m \u001b[0;32mfrom\u001b[0m \u001b[0mipynb\u001b[0m\u001b[0;34m.\u001b[0m\u001b[0mfs\u001b[0m\u001b[0;34m.\u001b[0m\u001b[0mfull\u001b[0m \u001b[0;32mimport\u001b[0m \u001b[0mpreprocess\u001b[0m\u001b[0;34m\u001b[0m\u001b[0m\n\u001b[0m\u001b[1;32m      2\u001b[0m \u001b[0;34m\u001b[0m\u001b[0m\n\u001b[1;32m      3\u001b[0m \u001b[0mprint\u001b[0m\u001b[0;34m(\u001b[0m\u001b[0mpreprocess\u001b[0m\u001b[0;34m.\u001b[0m\u001b[0mpreprocess\u001b[0m\u001b[0;34m(\u001b[0m\u001b[0mreviews\u001b[0m\u001b[0;34m)\u001b[0m\u001b[0;34m)\u001b[0m\u001b[0;34m\u001b[0m\u001b[0m\n",
      "\u001b[0;31mModuleNotFoundError\u001b[0m: No module named 'ipynb'"
     ]
    }
   ],
   "source": [
    "from ipynb.fs.full import preprocess\n",
    "\n",
    "print(preprocess.preprocess(reviews))"
   ]
  },
  {
   "cell_type": "code",
   "execution_count": 5,
   "metadata": {},
   "outputs": [
    {
     "name": "stdout",
     "output_type": "stream",
     "text": [
      "[nltk_data] Downloading package wordnet to /home/guy/nltk_data...\n",
      "[nltk_data]   Unzipping corpora/wordnet.zip.\n",
      "[nltk_data] Downloading package stopwords to /home/guy/nltk_data...\n",
      "[nltk_data]   Package stopwords is already up-to-date!\n"
     ]
    }
   ],
   "source": [
    "import nltk\n",
    "nltk.download('wordnet')\n",
    "nltk.download('stopwords')\n",
    "from nltk.corpus import stopwords\n",
    "from nltk.stem.wordnet import WordNetLemmatizer\n",
    "import string\n",
    "stop = set(stopwords.words('english'))\n",
    "exclude = set(string.punctuation)\n",
    "lemma = WordNetLemmatizer()\n",
    "def clean(doc):\n",
    "    stop_free = \" \".join([i for i in doc.lower().split() if i not in stop])\n",
    "    punc_free = ''.join(ch for ch in stop_free if ch not in exclude)\n",
    "    normalized = \" \".join(lemma.lemmatize(word) for word in punc_free.split())\n",
    "    return normalized\n",
    "\n",
    "doc_clean = [clean(doc).split() for doc in reviews]   "
   ]
  },
  {
   "cell_type": "code",
   "execution_count": 7,
   "metadata": {},
   "outputs": [],
   "source": [
    "# Importing Gensim\n",
    "import gensim\n",
    "from gensim import corpora\n",
    "\n",
    "# Creating the term dictionary of our courpus, where every unique term is assigned an index. \n",
    "dictionary = corpora.Dictionary(doc_clean)\n",
    "\n",
    "# Converting list of documents (corpus) into Document Term Matrix using dictionary prepared above.\n",
    "doc_term_matrix = [dictionary.doc2bow(doc) for doc in doc_clean]"
   ]
  },
  {
   "cell_type": "code",
   "execution_count": 13,
   "metadata": {},
   "outputs": [],
   "source": [
    "# Creating the object for LDA model using gensim library\n",
    "Lda = gensim.models.ldamodel.LdaModel\n",
    "\n",
    "# Running and Trainign LDA model on the document term matrix.\n",
    "ldamodel = Lda(doc_term_matrix, num_topics=5, id2word = dictionary, passes=50)"
   ]
  },
  {
   "cell_type": "code",
   "execution_count": 14,
   "metadata": {},
   "outputs": [
    {
     "name": "stdout",
     "output_type": "stream",
     "text": [
      "[(0, '0.028*\"echo\" + 0.026*\"light\" + 0.024*\"phone\"'), (1, '0.040*\"gen\" + 0.025*\"2\" + 0.020*\"music\"'), (2, '0.002*\"sound\" + 0.002*\"echo\" + 0.002*\"quality\"'), (3, '0.035*\"sound\" + 0.024*\"quality\" + 0.016*\"like\"'), (4, '0.015*\"device\" + 0.010*\"use\" + 0.008*\"one\"')]\n"
     ]
    }
   ],
   "source": [
    "print(ldamodel.print_topics(num_topics=5, num_words=3))"
   ]
  },
  {
   "cell_type": "code",
   "execution_count": null,
   "metadata": {},
   "outputs": [],
   "source": []
  }
 ],
 "metadata": {
  "kernelspec": {
   "display_name": "Python 3",
   "language": "python",
   "name": "python3"
  },
  "language_info": {
   "codemirror_mode": {
    "name": "ipython",
    "version": 3
   },
   "file_extension": ".py",
   "mimetype": "text/x-python",
   "name": "python",
   "nbconvert_exporter": "python",
   "pygments_lexer": "ipython3",
   "version": "3.6.5"
  }
 },
 "nbformat": 4,
 "nbformat_minor": 2
}
