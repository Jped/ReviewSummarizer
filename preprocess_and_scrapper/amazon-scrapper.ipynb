{
 "cells": [
  {
   "cell_type": "markdown",
   "metadata": {},
   "source": [
    "Written as part of https://www.scrapehero.com/how-to-scrape-amazon-product-reviews-using-python/, modified by us.\n",
    "\n",
    "To do:\n",
    "* Alter so that we are instead (also?) input the link with all the product's reviews. \n",
    "    * this is turning out to be problematic - the page with all the reviews still only has 10 at a time, so doesn't appear to be more efficient unless we can tell program to click to next page of reviews and continue that way."
   ]
  },
  {
   "cell_type": "code",
   "execution_count": 7,
   "metadata": {},
   "outputs": [],
   "source": [
    "from lxml import html\n",
    "from json import dump,loads\n",
    "from requests import get\n",
    "import json\n",
    "from re import sub\n",
    "from dateutil import parser as dateparser\n",
    "from time import sleep"
   ]
  },
  {
   "cell_type": "code",
   "execution_count": 32,
   "metadata": {},
   "outputs": [],
   "source": [
    "def ParseReviews(amazon_url):\n",
    "    '''\n",
    "    Given a url to an amazon product, \n",
    "    '''\n",
    "    # Add some recent user agent to prevent amazon from blocking the request \n",
    "    # Find some chrome user agent strings  here https://udger.com/resources/ua-list/browser-detail?browser=Chrome\n",
    "    headers = {'User-Agent': '''Mozilla/5.0 (X11; Linux x86_64) AppleWebKit/537.36'''\n",
    "                               '''(KHTML, like Gecko) Chrome/62.0.3202.94 Safari/537.36'''}\n",
    "    \n",
    "    # try getting the data 5 times. Will only retry getting data if response code isn't 200\n",
    "    for i in range(5): \n",
    "        # The response is the whole page (html, css, javascript, response code)\n",
    "        response = get(amazon_url, headers = headers, verify=False, timeout=30)\n",
    "        if response.status_code == 404:\n",
    "            return {\"url\": amazon_url, \"error\": \"page not found\"}\n",
    "        if response.status_code != 200: # checks whether to retry getting the page.\n",
    "            continue\n",
    "        \n",
    "        # Removing the null bytes from the response. \n",
    "        cleaned_response = response.text.replace('\\x00', '') \n",
    "\n",
    "        # get html in tree structure that can be parsed with XPath\n",
    "        parser = html.fromstring(cleaned_response) \n",
    "        \n",
    "        XPATH_AGGREGATE = '//span[@id=\"acrCustomerReviewText\"]'\n",
    "        XPATH_REVIEW_SECTION_1 = '//div[contains(@id,\"reviews-summary\")]'\n",
    "        XPATH_REVIEW_SECTION_2 = '//div[@data-hook=\"review\"]'\n",
    "        XPATH_AGGREGATE_RATING = '//table[@id=\"histogramTable\"]//tr'\n",
    "        XPATH_PRODUCT_NAME = '//h1//span[@id=\"productTitle\"]//text()'\n",
    "        \n",
    "        raw_product_name = parser.xpath(XPATH_PRODUCT_NAME)\n",
    "        total_ratings  = parser.xpath(XPATH_AGGREGATE_RATING)\n",
    "        reviews = parser.xpath(XPATH_REVIEW_SECTION_1)\n",
    "\n",
    "        product_name = ''.join(raw_product_name).strip()\n",
    "\n",
    "        if not reviews:\n",
    "            reviews = parser.xpath(XPATH_REVIEW_SECTION_2)\n",
    "        \n",
    "        ratings_dict = {}\n",
    "        reviews_list = []\n",
    "\n",
    "        # Grabing the rating section in product page\n",
    "        for ratings in total_ratings:\n",
    "            extracted_rating = ratings.xpath('./td//a//text()')\n",
    "            if extracted_rating:\n",
    "                rating_key = extracted_rating[0] \n",
    "                rating_value = extracted_rating[1]\n",
    "                if rating_key:\n",
    "                    ratings_dict.update({rating_key: rating_value})\n",
    "        \n",
    "        # Parsing individual reviews\n",
    "        for review in reviews:\n",
    "            XPATH_RATING  = './/i[@data-hook=\"review-star-rating\"]//text()'\n",
    "            XPATH_REVIEW_TEXT_1 = './/div[@data-hook=\"review-collapsed\"]//text()'\n",
    "            XPATH_REVIEW_TEXT_2 = './/div//span[@data-action=\"columnbalancing-showfullreview\"]/@data-columnbalancing-showfullreview'\n",
    "            XPATH_REVIEW_TEXT_3 = './/div[contains(@id,\"dpReviews\")]/div/text()'\n",
    "            \n",
    "            raw_review_rating = review.xpath(XPATH_RATING)\n",
    "            raw_review_text1 = review.xpath(XPATH_REVIEW_TEXT_1)\n",
    "            raw_review_text2 = review.xpath(XPATH_REVIEW_TEXT_2)\n",
    "            raw_review_text3 = review.xpath(XPATH_REVIEW_TEXT_3)\n",
    "\n",
    "            # Cleaning data\n",
    "            review_rating = ''.join(raw_review_rating).replace('out of 5 stars', '')\n",
    "            review_text = ' '.join(' '.join(raw_review_text1).split())\n",
    "\n",
    "            # Grabbing hidden comments if present\n",
    "            if raw_review_text2:\n",
    "                json_loaded_review_data = loads(raw_review_text2[0])\n",
    "                json_loaded_review_data_text = json_loaded_review_data['rest']\n",
    "                cleaned_json_loaded_review_data_text = re.sub('<.*?>', '', json_loaded_review_data_text)\n",
    "                full_review_text = review_text+cleaned_json_loaded_review_data_text\n",
    "            else:\n",
    "                full_review_text = review_text\n",
    "            if not raw_review_text1:\n",
    "                full_review_text = ' '.join(' '.join(raw_review_text3).split())\n",
    "\n",
    "            reviews_list.append({'review_text': full_review_text, 'review_rating': review_rating})\n",
    "\n",
    "        data = { 'name': product_name,\n",
    "                 'url': amazon_url,\n",
    "                 'ratings': ratings_dict,\n",
    "                 'reviews': reviews_list  }\n",
    "        \n",
    "        return data\n",
    "\n",
    "    return {\"error\": \"failed to process the page\", \"url\": amazon_url}\n",
    "            "
   ]
  },
  {
   "cell_type": "code",
   "execution_count": 37,
   "metadata": {},
   "outputs": [],
   "source": [
    "def scrapeAmazonReviews():\n",
    "    '''\n",
    "    Scrapes the user-inputted website for reviews, writing them\n",
    "    into cur_link.json. \n",
    "    Assumes this will be an amazon product page.\n",
    "    '''\n",
    "    link = input('Website link:')\n",
    "    \n",
    "    extracted_data = ParseReviews(link)\n",
    "    if len(extracted_data['name']) > 10:\n",
    "        f = open(extracted_data['name'][:10] + '..._product_reviews.json', 'w')\n",
    "    else:\n",
    "        f = open(extracted_data['name'][:10] + '_product_reviews.json', 'w')\n",
    "    dump(extracted_data, f, indent=4)\n",
    "    f.close()"
   ]
  },
  {
   "cell_type": "code",
   "execution_count": 38,
   "metadata": {},
   "outputs": [
    {
     "name": "stdout",
     "output_type": "stream",
     "text": [
      "Website link:https://www.amazon.com/Neutrogena-Fullreach-Sunscreen-Lightweight-Non-comedogenic/dp/B076H5P1S4?ref=FRESH_ENG_NewtoFresh&fpw=fresh&pf_rd_p=ae415af6-2a6e-44d7-a239-c91943a0d7d0&pf_rd_r=JWA309CKCYNXM4CRTM3A\n"
     ]
    },
    {
     "name": "stderr",
     "output_type": "stream",
     "text": [
      "/home/guy/.local/lib/python3.6/site-packages/urllib3/connectionpool.py:857: InsecureRequestWarning: Unverified HTTPS request is being made. Adding certificate verification is strongly advised. See: https://urllib3.readthedocs.io/en/latest/advanced-usage.html#ssl-warnings\n",
      "  InsecureRequestWarning)\n"
     ]
    }
   ],
   "source": [
    "if __name__ == '__main__':\n",
    "    scrapeAmazonReviews()"
   ]
  },
  {
   "cell_type": "code",
   "execution_count": null,
   "metadata": {},
   "outputs": [],
   "source": []
  }
 ],
 "metadata": {
  "kernelspec": {
   "display_name": "Python 3",
   "language": "python",
   "name": "python3"
  },
  "language_info": {
   "codemirror_mode": {
    "name": "ipython",
    "version": 3
   },
   "file_extension": ".py",
   "mimetype": "text/x-python",
   "name": "python",
   "nbconvert_exporter": "python",
   "pygments_lexer": "ipython3",
   "version": "3.6.5"
  }
 },
 "nbformat": 4,
 "nbformat_minor": 2
}
